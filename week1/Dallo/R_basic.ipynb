{
 "cells": [
  {
   "cell_type": "markdown",
   "id": "a6507a3d-5016-4c70-84cd-033c98f3508f",
   "metadata": {
    "tags": []
   },
   "source": [
    "# A basic R introduction for ARCH 249 @Berkeley\n",
    "# by F. Dallo, T. Parkinson, C. Duarte\n",
    "### https://www.w3schools.com/r/default.asp"
   ]
  },
  {
   "cell_type": "markdown",
   "id": "a53ea0ec-d3fa-4f7c-87b9-3d7fffac55d4",
   "metadata": {
    "tags": []
   },
   "source": [
    "## Play around with the terminal"
   ]
  },
  {
   "cell_type": "code",
   "execution_count": 1,
   "id": "216c47cd-e613-4c24-8596-e0c0aeb0562e",
   "metadata": {},
   "outputs": [
    {
     "data": {
      "text/html": [
       "'Hello Cal!'"
      ],
      "text/latex": [
       "'Hello Cal!'"
      ],
      "text/markdown": [
       "'Hello Cal!'"
      ],
      "text/plain": [
       "[1] \"Hello Cal!\""
      ]
     },
     "metadata": {},
     "output_type": "display_data"
    }
   ],
   "source": [
    "\"Hello Cal!\" # this is an explict print"
   ]
  },
  {
   "cell_type": "code",
   "execution_count": 4,
   "id": "dc0c8653-cc0a-4a83-b492-6d5004f28a0b",
   "metadata": {},
   "outputs": [
    {
     "data": {
      "text/html": [
       "5"
      ],
      "text/latex": [
       "5"
      ],
      "text/markdown": [
       "5"
      ],
      "text/plain": [
       "[1] 5"
      ]
     },
     "metadata": {},
     "output_type": "display_data"
    }
   ],
   "source": [
    "5 # this is a number.. "
   ]
  },
  {
   "cell_type": "code",
   "execution_count": 5,
   "id": "533c28fe",
   "metadata": {},
   "outputs": [
    {
     "data": {
      "text/html": [
       "TRUE"
      ],
      "text/latex": [
       "TRUE"
      ],
      "text/markdown": [
       "TRUE"
      ],
      "text/plain": [
       "[1] TRUE"
      ]
     },
     "metadata": {},
     "output_type": "display_data"
    }
   ],
   "source": [
    "is.numeric(5) # this is a number.. "
   ]
  },
  {
   "cell_type": "code",
   "execution_count": 11,
   "id": "6400f8dd",
   "metadata": {},
   "outputs": [
    {
     "data": {
      "text/html": [
       "'double'"
      ],
      "text/latex": [
       "'double'"
      ],
      "text/markdown": [
       "'double'"
      ],
      "text/plain": [
       "[1] \"double\""
      ]
     },
     "metadata": {},
     "output_type": "display_data"
    }
   ],
   "source": [
    "typeof(5) # but what kind of number??"
   ]
  },
  {
   "cell_type": "code",
   "execution_count": 12,
   "id": "83968b37",
   "metadata": {},
   "outputs": [
    {
     "data": {
      "text/html": [
       "'integer'"
      ],
      "text/latex": [
       "'integer'"
      ],
      "text/markdown": [
       "'integer'"
      ],
      "text/plain": [
       "[1] \"integer\""
      ]
     },
     "metadata": {},
     "output_type": "display_data"
    },
    {
     "name": "stdout",
     "output_type": "stream",
     "text": [
      "[1] 5\n"
     ]
    },
    {
     "data": {
      "text/html": [
       "'character'"
      ],
      "text/latex": [
       "'character'"
      ],
      "text/markdown": [
       "'character'"
      ],
      "text/plain": [
       "[1] \"character\""
      ]
     },
     "metadata": {},
     "output_type": "display_data"
    },
    {
     "name": "stdout",
     "output_type": "stream",
     "text": [
      "[1] \"5\"\n"
     ]
    }
   ],
   "source": [
    "# Can I force to have another representation?\n",
    "typeof( as.integer(5) )\n",
    "print( as.integer(5) ) # we need to explicitly invoke the \"print\" function\n",
    "typeof( as.character(5) )\n",
    "print( as.character(5) )"
   ]
  },
  {
   "cell_type": "code",
   "execution_count": 13,
   "id": "2d4f798b-0306-4b3f-b48a-c5eff1e722a1",
   "metadata": {},
   "outputs": [
    {
     "name": "stdout",
     "output_type": "stream",
     "text": [
      "[1] 1\n",
      "[1] 2\n",
      "[1] 3\n",
      "[1] 4\n",
      "[1] 5\n"
     ]
    }
   ],
   "source": [
    "for (i in 1:5) {print(i)}"
   ]
  },
  {
   "cell_type": "code",
   "execution_count": 14,
   "id": "9ec965e6-6c40-4d9c-8999-ff3e38939c91",
   "metadata": {},
   "outputs": [
    {
     "name": "stdout",
     "output_type": "stream",
     "text": [
      "[1] 0\n",
      "[1] 1\n",
      "[1] 2\n",
      "[1] 3\n",
      "[1] 4\n",
      "[1] 5\n"
     ]
    }
   ],
   "source": [
    "i <- 0 # safe behavior... and, by the way, this is a comment!... moreover, this is a \"variable assignment\"!\n",
    "while (i <= 5) {print(i); i <- i + 1}"
   ]
  },
  {
   "cell_type": "code",
   "execution_count": 15,
   "id": "8c7bf9ea",
   "metadata": {},
   "outputs": [
    {
     "data": {
      "text/html": [
       "'Hello'"
      ],
      "text/latex": [
       "'Hello'"
      ],
      "text/markdown": [
       "'Hello'"
      ],
      "text/plain": [
       "[1] \"Hello\""
      ]
     },
     "metadata": {},
     "output_type": "display_data"
    },
    {
     "data": {
      "text/html": [
       "'Hello'"
      ],
      "text/latex": [
       "'Hello'"
      ],
      "text/markdown": [
       "'Hello'"
      ],
      "text/plain": [
       "[1] \"Hello\""
      ]
     },
     "metadata": {},
     "output_type": "display_data"
    },
    {
     "data": {
      "text/html": [
       "'You should pay \"attention\".. '"
      ],
      "text/latex": [
       "'You should pay \"attention\".. '"
      ],
      "text/markdown": [
       "'You should pay \"attention\".. '"
      ],
      "text/plain": [
       "[1] \"You should pay \\\"attention\\\".. \""
      ]
     },
     "metadata": {},
     "output_type": "display_data"
    },
    {
     "data": {
      "text/html": [
       "'You should pay \\'attention\\'.. '"
      ],
      "text/latex": [
       "'You should pay \\textbackslash{}'attention\\textbackslash{}'.. '"
      ],
      "text/markdown": [
       "'You should pay \\'attention\\'.. '"
      ],
      "text/plain": [
       "[1] \"You should pay 'attention'.. \""
      ]
     },
     "metadata": {},
     "output_type": "display_data"
    },
    {
     "data": {
      "text/html": [
       "'You should pay \"attention\".. '"
      ],
      "text/latex": [
       "'You should pay \"attention\".. '"
      ],
      "text/markdown": [
       "'You should pay \"attention\".. '"
      ],
      "text/plain": [
       "[1] \"You should pay \\\"attention\\\".. \""
      ]
     },
     "metadata": {},
     "output_type": "display_data"
    },
    {
     "data": {
      "text/html": [
       "'You should pay \\'attention\\'.. '"
      ],
      "text/latex": [
       "'You should pay \\textbackslash{}'attention\\textbackslash{}'.. '"
      ],
      "text/markdown": [
       "'You should pay \\'attention\\'.. '"
      ],
      "text/plain": [
       "[1] \"You should pay 'attention'.. \""
      ]
     },
     "metadata": {},
     "output_type": "display_data"
    }
   ],
   "source": [
    "\"Hello\"\n",
    "'Hello'\n",
    "\"You should pay \\\"attention\\\".. \"\n",
    "\"You should pay 'attention'.. \"\n",
    "'You should pay \"attention\".. '\n",
    "'You should pay \\'attention\\'.. '"
   ]
  },
  {
   "cell_type": "code",
   "execution_count": 16,
   "id": "dd222663",
   "metadata": {},
   "outputs": [
    {
     "ename": "ERROR",
     "evalue": "Error in eval(expr, envir, enclos): object 'Hello' not found\n",
     "output_type": "error",
     "traceback": [
      "Error in eval(expr, envir, enclos): object 'Hello' not found\nTraceback:\n"
     ]
    }
   ],
   "source": [
    "`Hello` # backticks quote are used for non-standard variables.. and you should ask Tom what he think about them"
   ]
  },
  {
   "cell_type": "code",
   "execution_count": 17,
   "id": "14a4bf49",
   "metadata": {},
   "outputs": [
    {
     "data": {
      "text/html": [
       "11"
      ],
      "text/latex": [
       "11"
      ],
      "text/markdown": [
       "11"
      ],
      "text/plain": [
       "[1] 11"
      ]
     },
     "metadata": {},
     "output_type": "display_data"
    },
    {
     "data": {
      "text/html": [
       "<style>\n",
       ".list-inline {list-style: none; margin:0; padding: 0}\n",
       ".list-inline>li {display: inline-block}\n",
       ".list-inline>li:not(:last-child)::after {content: \"\\00b7\"; padding: 0 .5ex}\n",
       "</style>\n",
       "<ol class=list-inline><li>'Bob'</li><li>'Alice'</li></ol>\n"
      ],
      "text/latex": [
       "\\begin{enumerate*}\n",
       "\\item 'Bob'\n",
       "\\item 'Alice'\n",
       "\\end{enumerate*}\n"
      ],
      "text/markdown": [
       "1. 'Bob'\n",
       "2. 'Alice'\n",
       "\n",
       "\n"
      ],
      "text/plain": [
       "[1] \"Bob\"   \"Alice\""
      ]
     },
     "metadata": {},
     "output_type": "display_data"
    },
    {
     "data": {
      "text/html": [
       "<style>\n",
       ".list-inline {list-style: none; margin:0; padding: 0}\n",
       ".list-inline>li {display: inline-block}\n",
       ".list-inline>li:not(:last-child)::after {content: \"\\00b7\"; padding: 0 .5ex}\n",
       "</style>\n",
       "<ol class=list-inline><li>'Geldof'</li><li>'White'</li></ol>\n"
      ],
      "text/latex": [
       "\\begin{enumerate*}\n",
       "\\item 'Geldof'\n",
       "\\item 'White'\n",
       "\\end{enumerate*}\n"
      ],
      "text/markdown": [
       "1. 'Geldof'\n",
       "2. 'White'\n",
       "\n",
       "\n"
      ],
      "text/plain": [
       "[1] \"Geldof\" \"White\" "
      ]
     },
     "metadata": {},
     "output_type": "display_data"
    },
    {
     "data": {
      "text/html": [
       "<style>\n",
       ".list-inline {list-style: none; margin:0; padding: 0}\n",
       ".list-inline>li {display: inline-block}\n",
       ".list-inline>li:not(:last-child)::after {content: \"\\00b7\"; padding: 0 .5ex}\n",
       "</style>\n",
       "<ol class=list-inline><li>'Gigi'</li><li>'Kathy'</li></ol>\n"
      ],
      "text/latex": [
       "\\begin{enumerate*}\n",
       "\\item 'Gigi'\n",
       "\\item 'Kathy'\n",
       "\\end{enumerate*}\n"
      ],
      "text/markdown": [
       "1. 'Gigi'\n",
       "2. 'Kathy'\n",
       "\n",
       "\n"
      ],
      "text/plain": [
       "[1] \"Gigi\"  \"Kathy\""
      ]
     },
     "metadata": {},
     "output_type": "display_data"
    },
    {
     "data": {
      "text/html": [
       "<table class=\"dataframe\">\n",
       "<caption>A data.frame: 1 × 3</caption>\n",
       "<thead>\n",
       "\t<tr><th></th><th scope=col>NAME</th><th scope=col>SURNAME</th><th scope=col>MIDDLE.NAME</th></tr>\n",
       "\t<tr><th></th><th scope=col>&lt;chr&gt;</th><th scope=col>&lt;chr&gt;</th><th scope=col>&lt;chr&gt;</th></tr>\n",
       "</thead>\n",
       "<tbody>\n",
       "\t<tr><th scope=row>1</th><td>Bob</td><td>Geldof</td><td>Gigi</td></tr>\n",
       "</tbody>\n",
       "</table>\n"
      ],
      "text/latex": [
       "A data.frame: 1 × 3\n",
       "\\begin{tabular}{r|lll}\n",
       "  & NAME & SURNAME & MIDDLE.NAME\\\\\n",
       "  & <chr> & <chr> & <chr>\\\\\n",
       "\\hline\n",
       "\t1 & Bob & Geldof & Gigi\\\\\n",
       "\\end{tabular}\n"
      ],
      "text/markdown": [
       "\n",
       "A data.frame: 1 × 3\n",
       "\n",
       "| <!--/--> | NAME &lt;chr&gt; | SURNAME &lt;chr&gt; | MIDDLE.NAME &lt;chr&gt; |\n",
       "|---|---|---|---|\n",
       "| 1 | Bob | Geldof | Gigi |\n",
       "\n"
      ],
      "text/plain": [
       "  NAME SURNAME MIDDLE.NAME\n",
       "1 Bob  Geldof  Gigi       "
      ]
     },
     "metadata": {},
     "output_type": "display_data"
    }
   ],
   "source": [
    "`why not be fun!` <- 11 \n",
    "`why not be fun!` # https://stat.ethz.ch/R-manual/R-devel/library/base/html/make.names.html\n",
    "dumb_df_names <- data.frame(NAME = c(\"Bob\", \"Alice\"), SURNAME= c(\"Geldof\", \"White\"), `MIDDLE NAME` = c(\"Gigi\", \"Kathy\"))\n",
    "dumb_df_names$NAME\n",
    "dumb_df_names$SURNAME\n",
    "dumb_df_names$MIDDLE.NAME\n",
    "dumb_df_names[1,] # I can see Tom suffering... he don't like matrix notation"
   ]
  },
  {
   "cell_type": "markdown",
   "id": "0141fcaa-65f1-4f9d-94f4-46ef190ccdea",
   "metadata": {},
   "source": [
    "### Going paranoid on quotes: https://stat.ethz.ch/R-manual/R-patched/library/base/html/Quotes.html"
   ]
  },
  {
   "cell_type": "markdown",
   "id": "e6f7ccb3-f005-42d7-abb0-3a2774fc9e8f",
   "metadata": {
    "tags": []
   },
   "source": [
    "## Arithmetics\n",
    "### ('cause at the end... R is a supersofisticated calculator)"
   ]
  },
  {
   "cell_type": "code",
   "execution_count": 18,
   "id": "f2843426-70b9-4a44-a7df-7ed7470e138e",
   "metadata": {},
   "outputs": [
    {
     "data": {
      "text/html": [
       "4"
      ],
      "text/latex": [
       "4"
      ],
      "text/markdown": [
       "4"
      ],
      "text/plain": [
       "[1] 4"
      ]
     },
     "metadata": {},
     "output_type": "display_data"
    }
   ],
   "source": [
    "### Addition\n",
    "2 + 2"
   ]
  },
  {
   "cell_type": "code",
   "execution_count": 19,
   "id": "e2c0acd9-c5b7-436e-84d1-bb628615da07",
   "metadata": {},
   "outputs": [
    {
     "data": {
      "text/html": [
       "4"
      ],
      "text/latex": [
       "4"
      ],
      "text/markdown": [
       "4"
      ],
      "text/plain": [
       "[1] 4"
      ]
     },
     "metadata": {},
     "output_type": "display_data"
    }
   ],
   "source": [
    "### Substraction\n",
    "5 - 1"
   ]
  },
  {
   "cell_type": "code",
   "execution_count": 20,
   "id": "58d5f4fd-2317-4198-af79-e88ca97de27b",
   "metadata": {},
   "outputs": [
    {
     "data": {
      "text/html": [
       "4"
      ],
      "text/latex": [
       "4"
      ],
      "text/markdown": [
       "4"
      ],
      "text/plain": [
       "[1] 4"
      ]
     },
     "metadata": {},
     "output_type": "display_data"
    }
   ],
   "source": [
    "### Multiplication\n",
    "2 * 2"
   ]
  },
  {
   "cell_type": "code",
   "execution_count": 21,
   "id": "53f9963e-40ce-42d6-9a76-1eb0f38a4b03",
   "metadata": {},
   "outputs": [
    {
     "data": {
      "text/html": [
       "4"
      ],
      "text/latex": [
       "4"
      ],
      "text/markdown": [
       "4"
      ],
      "text/plain": [
       "[1] 4"
      ]
     },
     "metadata": {},
     "output_type": "display_data"
    }
   ],
   "source": [
    "### Division\n",
    "20 / 5"
   ]
  },
  {
   "cell_type": "code",
   "execution_count": 22,
   "id": "b50a105f-0c5f-4d81-a572-e7dc5d264e38",
   "metadata": {},
   "outputs": [
    {
     "data": {
      "text/html": [
       "4"
      ],
      "text/latex": [
       "4"
      ],
      "text/markdown": [
       "4"
      ],
      "text/plain": [
       "[1] 4"
      ]
     },
     "metadata": {},
     "output_type": "display_data"
    },
    {
     "data": {
      "text/html": [
       "4"
      ],
      "text/latex": [
       "4"
      ],
      "text/markdown": [
       "4"
      ],
      "text/plain": [
       "[1] 4"
      ]
     },
     "metadata": {},
     "output_type": "display_data"
    },
    {
     "data": {
      "text/html": [
       "4"
      ],
      "text/latex": [
       "4"
      ],
      "text/markdown": [
       "4"
      ],
      "text/plain": [
       "[1] 4"
      ]
     },
     "metadata": {},
     "output_type": "display_data"
    }
   ],
   "source": [
    "### Exponential\n",
    "2 ^ 2\n",
    "\n",
    "16 ^ 0.5\n",
    "\n",
    "sqrt(16) # this is the first time we see a function!"
   ]
  },
  {
   "cell_type": "code",
   "execution_count": 23,
   "id": "6a641f1c-4275-4cf0-a8f2-154cf9b8657d",
   "metadata": {},
   "outputs": [
    {
     "data": {
      "text/html": [
       "2.5"
      ],
      "text/latex": [
       "2.5"
      ],
      "text/markdown": [
       "2.5"
      ],
      "text/plain": [
       "[1] 2.5"
      ]
     },
     "metadata": {},
     "output_type": "display_data"
    },
    {
     "data": {
      "text/html": [
       "2"
      ],
      "text/latex": [
       "2"
      ],
      "text/markdown": [
       "2"
      ],
      "text/plain": [
       "[1] 2"
      ]
     },
     "metadata": {},
     "output_type": "display_data"
    },
    {
     "data": {
      "text/html": [
       "1"
      ],
      "text/latex": [
       "1"
      ],
      "text/markdown": [
       "1"
      ],
      "text/plain": [
       "[1] 1"
      ]
     },
     "metadata": {},
     "output_type": "display_data"
    },
    {
     "data": {
      "text/html": [
       "5"
      ],
      "text/latex": [
       "5"
      ],
      "text/markdown": [
       "5"
      ],
      "text/plain": [
       "[1] 5"
      ]
     },
     "metadata": {},
     "output_type": "display_data"
    },
    {
     "data": {
      "text/html": [
       "4"
      ],
      "text/latex": [
       "4"
      ],
      "text/markdown": [
       "4"
      ],
      "text/plain": [
       "[1] 4"
      ]
     },
     "metadata": {},
     "output_type": "display_data"
    }
   ],
   "source": [
    "### Some particular divisions\n",
    "5 / 2\n",
    "5 %/% 2 ##FEDE## This returns the integer part of the division\n",
    "5 %% 2 ##FEDE## This returns the remainder\n",
    "\n",
    "1 / 0.2\n",
    "1 %/% 0.2 ##FEDE## What?! Why?! https://stat.ethz.ch/R-manual/R-devel/library/base/html/Arithmetic.html"
   ]
  },
  {
   "cell_type": "markdown",
   "id": "4e996e28-fe4e-4adf-82e2-01a15d524083",
   "metadata": {
    "tags": []
   },
   "source": [
    "## Functions\n",
    "## Library of code that makes your life easier"
   ]
  },
  {
   "cell_type": "code",
   "execution_count": null,
   "id": "68694008",
   "metadata": {},
   "outputs": [],
   "source": []
  },
  {
   "cell_type": "markdown",
   "id": "214cec62-d2a7-4053-aa81-b26baadba18e",
   "metadata": {},
   "source": [
    "## Variables\n",
    "### Containers for storing data values."
   ]
  },
  {
   "cell_type": "code",
   "execution_count": 24,
   "id": "99d6fbec-d462-4cc5-af80-26e12e1a83d4",
   "metadata": {},
   "outputs": [
    {
     "data": {
      "text/html": [
       "2"
      ],
      "text/latex": [
       "2"
      ],
      "text/markdown": [
       "2"
      ],
      "text/plain": [
       "[1] 2"
      ]
     },
     "metadata": {},
     "output_type": "display_data"
    }
   ],
   "source": [
    "assign(\"variableName\", 2) # https://stat.ethz.ch/R-manual/R-devel/library/base/html/assign.html\n",
    "variableName"
   ]
  },
  {
   "cell_type": "code",
   "execution_count": 25,
   "id": "767b7ae6",
   "metadata": {},
   "outputs": [
    {
     "data": {
      "text/html": [
       "2"
      ],
      "text/latex": [
       "2"
      ],
      "text/markdown": [
       "2"
      ],
      "text/plain": [
       "[1] 2"
      ]
     },
     "metadata": {},
     "output_type": "display_data"
    },
    {
     "data": {
      "text/html": [
       "'ciao'"
      ],
      "text/latex": [
       "'ciao'"
      ],
      "text/markdown": [
       "'ciao'"
      ],
      "text/plain": [
       "[1] \"ciao\""
      ]
     },
     "metadata": {},
     "output_type": "display_data"
    }
   ],
   "source": [
    "myVariable <- 2\n",
    "myVariable \n",
    "myVariable <- \"ciao\"\n",
    "myVariable"
   ]
  },
  {
   "cell_type": "code",
   "execution_count": 26,
   "id": "8d009496",
   "metadata": {},
   "outputs": [
    {
     "data": {
      "text/html": [
       "7"
      ],
      "text/latex": [
       "7"
      ],
      "text/markdown": [
       "7"
      ],
      "text/plain": [
       "[1] 7"
      ]
     },
     "metadata": {},
     "output_type": "display_data"
    },
    {
     "data": {
      "text/html": [
       "'seven'"
      ],
      "text/latex": [
       "'seven'"
      ],
      "text/markdown": [
       "'seven'"
      ],
      "text/plain": [
       "[1] \"seven\""
      ]
     },
     "metadata": {},
     "output_type": "display_data"
    }
   ],
   "source": [
    "nr_days_week <- 7\n",
    "nr_days_week # auto-print the value of the name variable\n",
    "nr_days_week <- \"seven\"\n",
    "nr_days_week\n",
    "# We can use both = and <- as assignment operators. But... \n",
    "# <- is preferred in most cases because the = operator can be forbidden in some context\n",
    "# Also... is nicer from the math point of view: next example."
   ]
  },
  {
   "cell_type": "code",
   "execution_count": 27,
   "id": "3d8058f3",
   "metadata": {},
   "outputs": [
    {
     "name": "stdout",
     "output_type": "stream",
     "text": [
      "[1] 1\n",
      "[1] 2\n",
      "[1] 3\n",
      "[1] 4\n",
      "[1] 5\n"
     ]
    }
   ],
   "source": [
    "i = 1 # make sense here .. \n",
    "while (i <= 5) {print(i); i = i + 1} # i = i + 1 ??? Some picky people decided to go for i <- i + 1"
   ]
  },
  {
   "cell_type": "code",
   "execution_count": 6,
   "id": "4af29427",
   "metadata": {},
   "outputs": [
    {
     "name": "stdout",
     "output_type": "stream",
     "text": [
      "[1] \"1-1-1\"\n",
      "[1] \"1-1-2\"\n",
      "[1] \"1-1-3\"\n",
      "[1] \"1-2-1\"\n",
      "[1] \"1-2-2\"\n",
      "[1] \"1-2-3\"\n",
      "[1] \"1-3-1\"\n",
      "[1] \"1-3-2\"\n",
      "[1] \"1-3-3\"\n",
      "[1] \"2-1-1\"\n",
      "[1] \"2-1-2\"\n",
      "[1] \"2-1-3\"\n",
      "[1] \"2-2-1\"\n",
      "[1] \"2-2-2\"\n",
      "[1] \"2-2-3\"\n",
      "[1] \"2-3-1\"\n",
      "[1] \"2-3-2\"\n",
      "[1] \"2-3-3\"\n",
      "[1] \"3-1-1\"\n",
      "[1] \"3-1-2\"\n",
      "[1] \"3-1-3\"\n",
      "[1] \"3-2-1\"\n",
      "[1] \"3-2-2\"\n",
      "[1] \"3-2-3\"\n",
      "[1] \"3-3-1\"\n",
      "[1] \"3-3-2\"\n",
      "[1] \"3-3-3\"\n",
      "[1] 27\n"
     ]
    }
   ],
   "source": [
    "# going \"inception\"\n",
    "i <- n <- 1 \n",
    "while (i <= 3 ) {\n",
    "    for (j in 1:3 ) {\n",
    "        for (k in 1:3) {\n",
    "            print(paste0(i, \"-\", j, \"-\", k))\n",
    "            n <- n + 1\n",
    "        }\n",
    "    }\n",
    "    i <- i + 1\n",
    "}\n",
    "print((n - 1))"
   ]
  },
  {
   "cell_type": "code",
   "execution_count": 8,
   "id": "0c82ff81",
   "metadata": {
    "scrolled": true
   },
   "outputs": [
    {
     "data": {
      "text/html": [
       "<table class=\"dataframe\">\n",
       "<caption>A data.frame: 27 × 3</caption>\n",
       "<thead>\n",
       "\t<tr><th scope=col>Var1</th><th scope=col>Var2</th><th scope=col>Var3</th></tr>\n",
       "\t<tr><th scope=col>&lt;int&gt;</th><th scope=col>&lt;int&gt;</th><th scope=col>&lt;int&gt;</th></tr>\n",
       "</thead>\n",
       "<tbody>\n",
       "\t<tr><td>1</td><td>1</td><td>1</td></tr>\n",
       "\t<tr><td>2</td><td>1</td><td>1</td></tr>\n",
       "\t<tr><td>3</td><td>1</td><td>1</td></tr>\n",
       "\t<tr><td>1</td><td>2</td><td>1</td></tr>\n",
       "\t<tr><td>2</td><td>2</td><td>1</td></tr>\n",
       "\t<tr><td>3</td><td>2</td><td>1</td></tr>\n",
       "\t<tr><td>1</td><td>3</td><td>1</td></tr>\n",
       "\t<tr><td>2</td><td>3</td><td>1</td></tr>\n",
       "\t<tr><td>3</td><td>3</td><td>1</td></tr>\n",
       "\t<tr><td>1</td><td>1</td><td>2</td></tr>\n",
       "\t<tr><td>2</td><td>1</td><td>2</td></tr>\n",
       "\t<tr><td>3</td><td>1</td><td>2</td></tr>\n",
       "\t<tr><td>1</td><td>2</td><td>2</td></tr>\n",
       "\t<tr><td>2</td><td>2</td><td>2</td></tr>\n",
       "\t<tr><td>3</td><td>2</td><td>2</td></tr>\n",
       "\t<tr><td>1</td><td>3</td><td>2</td></tr>\n",
       "\t<tr><td>2</td><td>3</td><td>2</td></tr>\n",
       "\t<tr><td>3</td><td>3</td><td>2</td></tr>\n",
       "\t<tr><td>1</td><td>1</td><td>3</td></tr>\n",
       "\t<tr><td>2</td><td>1</td><td>3</td></tr>\n",
       "\t<tr><td>3</td><td>1</td><td>3</td></tr>\n",
       "\t<tr><td>1</td><td>2</td><td>3</td></tr>\n",
       "\t<tr><td>2</td><td>2</td><td>3</td></tr>\n",
       "\t<tr><td>3</td><td>2</td><td>3</td></tr>\n",
       "\t<tr><td>1</td><td>3</td><td>3</td></tr>\n",
       "\t<tr><td>2</td><td>3</td><td>3</td></tr>\n",
       "\t<tr><td>3</td><td>3</td><td>3</td></tr>\n",
       "</tbody>\n",
       "</table>\n"
      ],
      "text/latex": [
       "A data.frame: 27 × 3\n",
       "\\begin{tabular}{lll}\n",
       " Var1 & Var2 & Var3\\\\\n",
       " <int> & <int> & <int>\\\\\n",
       "\\hline\n",
       "\t 1 & 1 & 1\\\\\n",
       "\t 2 & 1 & 1\\\\\n",
       "\t 3 & 1 & 1\\\\\n",
       "\t 1 & 2 & 1\\\\\n",
       "\t 2 & 2 & 1\\\\\n",
       "\t 3 & 2 & 1\\\\\n",
       "\t 1 & 3 & 1\\\\\n",
       "\t 2 & 3 & 1\\\\\n",
       "\t 3 & 3 & 1\\\\\n",
       "\t 1 & 1 & 2\\\\\n",
       "\t 2 & 1 & 2\\\\\n",
       "\t 3 & 1 & 2\\\\\n",
       "\t 1 & 2 & 2\\\\\n",
       "\t 2 & 2 & 2\\\\\n",
       "\t 3 & 2 & 2\\\\\n",
       "\t 1 & 3 & 2\\\\\n",
       "\t 2 & 3 & 2\\\\\n",
       "\t 3 & 3 & 2\\\\\n",
       "\t 1 & 1 & 3\\\\\n",
       "\t 2 & 1 & 3\\\\\n",
       "\t 3 & 1 & 3\\\\\n",
       "\t 1 & 2 & 3\\\\\n",
       "\t 2 & 2 & 3\\\\\n",
       "\t 3 & 2 & 3\\\\\n",
       "\t 1 & 3 & 3\\\\\n",
       "\t 2 & 3 & 3\\\\\n",
       "\t 3 & 3 & 3\\\\\n",
       "\\end{tabular}\n"
      ],
      "text/markdown": [
       "\n",
       "A data.frame: 27 × 3\n",
       "\n",
       "| Var1 &lt;int&gt; | Var2 &lt;int&gt; | Var3 &lt;int&gt; |\n",
       "|---|---|---|\n",
       "| 1 | 1 | 1 |\n",
       "| 2 | 1 | 1 |\n",
       "| 3 | 1 | 1 |\n",
       "| 1 | 2 | 1 |\n",
       "| 2 | 2 | 1 |\n",
       "| 3 | 2 | 1 |\n",
       "| 1 | 3 | 1 |\n",
       "| 2 | 3 | 1 |\n",
       "| 3 | 3 | 1 |\n",
       "| 1 | 1 | 2 |\n",
       "| 2 | 1 | 2 |\n",
       "| 3 | 1 | 2 |\n",
       "| 1 | 2 | 2 |\n",
       "| 2 | 2 | 2 |\n",
       "| 3 | 2 | 2 |\n",
       "| 1 | 3 | 2 |\n",
       "| 2 | 3 | 2 |\n",
       "| 3 | 3 | 2 |\n",
       "| 1 | 1 | 3 |\n",
       "| 2 | 1 | 3 |\n",
       "| 3 | 1 | 3 |\n",
       "| 1 | 2 | 3 |\n",
       "| 2 | 2 | 3 |\n",
       "| 3 | 2 | 3 |\n",
       "| 1 | 3 | 3 |\n",
       "| 2 | 3 | 3 |\n",
       "| 3 | 3 | 3 |\n",
       "\n"
      ],
      "text/plain": [
       "   Var1 Var2 Var3\n",
       "1  1    1    1   \n",
       "2  2    1    1   \n",
       "3  3    1    1   \n",
       "4  1    2    1   \n",
       "5  2    2    1   \n",
       "6  3    2    1   \n",
       "7  1    3    1   \n",
       "8  2    3    1   \n",
       "9  3    3    1   \n",
       "10 1    1    2   \n",
       "11 2    1    2   \n",
       "12 3    1    2   \n",
       "13 1    2    2   \n",
       "14 2    2    2   \n",
       "15 3    2    2   \n",
       "16 1    3    2   \n",
       "17 2    3    2   \n",
       "18 3    3    2   \n",
       "19 1    1    3   \n",
       "20 2    1    3   \n",
       "21 3    1    3   \n",
       "22 1    2    3   \n",
       "23 2    2    3   \n",
       "24 3    2    3   \n",
       "25 1    3    3   \n",
       "26 2    3    3   \n",
       "27 3    3    3   "
      ]
     },
     "metadata": {},
     "output_type": "display_data"
    }
   ],
   "source": [
    "expand.grid(rep(list(1:3),3)) # permutations with repetitions ! n^k\n",
    "#?expand.grid()"
   ]
  },
  {
   "cell_type": "code",
   "execution_count": 30,
   "id": "83f9dd67",
   "metadata": {
    "scrolled": true
   },
   "outputs": [
    {
     "data": {
      "text/html": [
       "<table class=\"dataframe\">\n",
       "<caption>A matrix: 6 × 13983816 of type int</caption>\n",
       "<tbody>\n",
       "\t<tr><td>1</td><td>1</td><td>1</td><td>1</td><td> 1</td><td> 1</td><td> 1</td><td> 1</td><td> 1</td><td> 1</td><td>⋯</td><td>42</td><td>42</td><td>42</td><td>43</td><td>43</td><td>43</td><td>43</td><td>43</td><td>43</td><td>44</td></tr>\n",
       "\t<tr><td>2</td><td>2</td><td>2</td><td>2</td><td> 2</td><td> 2</td><td> 2</td><td> 2</td><td> 2</td><td> 2</td><td>⋯</td><td>44</td><td>44</td><td>45</td><td>44</td><td>44</td><td>44</td><td>44</td><td>44</td><td>45</td><td>45</td></tr>\n",
       "\t<tr><td>3</td><td>3</td><td>3</td><td>3</td><td> 3</td><td> 3</td><td> 3</td><td> 3</td><td> 3</td><td> 3</td><td>⋯</td><td>45</td><td>46</td><td>46</td><td>45</td><td>45</td><td>45</td><td>45</td><td>46</td><td>46</td><td>46</td></tr>\n",
       "\t<tr><td>4</td><td>4</td><td>4</td><td>4</td><td> 4</td><td> 4</td><td> 4</td><td> 4</td><td> 4</td><td> 4</td><td>⋯</td><td>47</td><td>47</td><td>47</td><td>46</td><td>46</td><td>46</td><td>47</td><td>47</td><td>47</td><td>47</td></tr>\n",
       "\t<tr><td>5</td><td>5</td><td>5</td><td>5</td><td> 5</td><td> 5</td><td> 5</td><td> 5</td><td> 5</td><td> 5</td><td>⋯</td><td>48</td><td>48</td><td>48</td><td>47</td><td>47</td><td>48</td><td>48</td><td>48</td><td>48</td><td>48</td></tr>\n",
       "\t<tr><td>6</td><td>7</td><td>8</td><td>9</td><td>10</td><td>11</td><td>12</td><td>13</td><td>14</td><td>15</td><td>⋯</td><td>49</td><td>49</td><td>49</td><td>48</td><td>49</td><td>49</td><td>49</td><td>49</td><td>49</td><td>49</td></tr>\n",
       "</tbody>\n",
       "</table>\n"
      ],
      "text/latex": [
       "A matrix: 6 × 13983816 of type int\n",
       "\\begin{tabular}{lllllllllllllllllllll}\n",
       "\t 1 & 1 & 1 & 1 &  1 &  1 &  1 &  1 &  1 &  1 & ⋯ & 42 & 42 & 42 & 43 & 43 & 43 & 43 & 43 & 43 & 44\\\\\n",
       "\t 2 & 2 & 2 & 2 &  2 &  2 &  2 &  2 &  2 &  2 & ⋯ & 44 & 44 & 45 & 44 & 44 & 44 & 44 & 44 & 45 & 45\\\\\n",
       "\t 3 & 3 & 3 & 3 &  3 &  3 &  3 &  3 &  3 &  3 & ⋯ & 45 & 46 & 46 & 45 & 45 & 45 & 45 & 46 & 46 & 46\\\\\n",
       "\t 4 & 4 & 4 & 4 &  4 &  4 &  4 &  4 &  4 &  4 & ⋯ & 47 & 47 & 47 & 46 & 46 & 46 & 47 & 47 & 47 & 47\\\\\n",
       "\t 5 & 5 & 5 & 5 &  5 &  5 &  5 &  5 &  5 &  5 & ⋯ & 48 & 48 & 48 & 47 & 47 & 48 & 48 & 48 & 48 & 48\\\\\n",
       "\t 6 & 7 & 8 & 9 & 10 & 11 & 12 & 13 & 14 & 15 & ⋯ & 49 & 49 & 49 & 48 & 49 & 49 & 49 & 49 & 49 & 49\\\\\n",
       "\\end{tabular}\n"
      ],
      "text/markdown": [
       "\n",
       "A matrix: 6 × 13983816 of type int\n",
       "\n",
       "| 1 | 1 | 1 | 1 |  1 |  1 |  1 |  1 |  1 |  1 | ⋯ | 42 | 42 | 42 | 43 | 43 | 43 | 43 | 43 | 43 | 44 |\n",
       "| 2 | 2 | 2 | 2 |  2 |  2 |  2 |  2 |  2 |  2 | ⋯ | 44 | 44 | 45 | 44 | 44 | 44 | 44 | 44 | 45 | 45 |\n",
       "| 3 | 3 | 3 | 3 |  3 |  3 |  3 |  3 |  3 |  3 | ⋯ | 45 | 46 | 46 | 45 | 45 | 45 | 45 | 46 | 46 | 46 |\n",
       "| 4 | 4 | 4 | 4 |  4 |  4 |  4 |  4 |  4 |  4 | ⋯ | 47 | 47 | 47 | 46 | 46 | 46 | 47 | 47 | 47 | 47 |\n",
       "| 5 | 5 | 5 | 5 |  5 |  5 |  5 |  5 |  5 |  5 | ⋯ | 48 | 48 | 48 | 47 | 47 | 48 | 48 | 48 | 48 | 48 |\n",
       "| 6 | 7 | 8 | 9 | 10 | 11 | 12 | 13 | 14 | 15 | ⋯ | 49 | 49 | 49 | 48 | 49 | 49 | 49 | 49 | 49 | 49 |\n",
       "\n"
      ],
      "text/plain": [
       "     [,1] [,2] [,3] [,4] [,5] [,6] [,7] [,8] [,9] [,10] [,11] [,12] [,13] [,14]\n",
       "[1,] 1    1    1    1     1    1    1    1    1    1    ⋯     42    42    42   \n",
       "[2,] 2    2    2    2     2    2    2    2    2    2    ⋯     44    44    45   \n",
       "[3,] 3    3    3    3     3    3    3    3    3    3    ⋯     45    46    46   \n",
       "[4,] 4    4    4    4     4    4    4    4    4    4    ⋯     47    47    47   \n",
       "[5,] 5    5    5    5     5    5    5    5    5    5    ⋯     48    48    48   \n",
       "[6,] 6    7    8    9    10   11   12   13   14   15    ⋯     49    49    49   \n",
       "     [,15] [,16] [,17] [,18] [,19] [,20] [,21]\n",
       "[1,] 43    43    43    43    43    43    44   \n",
       "[2,] 44    44    44    44    44    45    45   \n",
       "[3,] 45    45    45    45    46    46    46   \n",
       "[4,] 46    46    46    47    47    47    47   \n",
       "[5,] 47    47    48    48    48    48    48   \n",
       "[6,] 48    49    49    49    49    49    49   "
      ]
     },
     "metadata": {},
     "output_type": "display_data"
    }
   ],
   "source": [
    "# combinations without repetitions, the lottery where 6 out of 49 balls are chosen\n",
    "combn(1:49, 6)\n"
   ]
  },
  {
   "cell_type": "code",
   "execution_count": 34,
   "id": "8272bea0",
   "metadata": {},
   "outputs": [
    {
     "data": {
      "text/html": [
       "13983816"
      ],
      "text/latex": [
       "13983816"
      ],
      "text/markdown": [
       "13983816"
      ],
      "text/plain": [
       "[1] 13983816"
      ]
     },
     "metadata": {},
     "output_type": "display_data"
    },
    {
     "data": {
      "text/html": [
       "13983816"
      ],
      "text/latex": [
       "13983816"
      ],
      "text/markdown": [
       "13983816"
      ],
      "text/plain": [
       "[1] 13983816"
      ]
     },
     "metadata": {},
     "output_type": "display_data"
    }
   ],
   "source": [
    "# not so easy to win.. \n",
    "factorial(49) / ( factorial(6) * factorial(49 - 6) )\n",
    "# or using a function\n",
    "choose(49, 6)"
   ]
  },
  {
   "cell_type": "markdown",
   "id": "691cdeb3-40e6-4a20-b8e8-25f7add094d1",
   "metadata": {},
   "source": [
    "## Logic Operators (Boolean algebra) https://stat.ethz.ch/R-manual/R-devel/library/base/html/Logic.html"
   ]
  },
  {
   "cell_type": "code",
   "execution_count": null,
   "id": "461882c1-1945-425a-bbe1-8cba2326f4bf",
   "metadata": {},
   "outputs": [],
   "source": [
    "1 == 1\n",
    "1 != 1\n",
    "1 > 1\n",
    "1 >= 1\n",
    "1 < 1\n",
    "1 <= 1"
   ]
  },
  {
   "cell_type": "code",
   "execution_count": null,
   "id": "b54c7a9a-c4a5-44dc-a4b1-e2c82fbcc7af",
   "metadata": {},
   "outputs": [],
   "source": [
    "### Make some variable assignment and then try some if-else statements:\n",
    "a <- 1\n",
    "b <- 2\n",
    "a == 1 & b == 2\n",
    "if (a == 1 & b == 2) {\n",
    "    print(\"Good\")\n",
    "    #\"good! without calling print()\"\n",
    "} else {\n",
    "    print(\"Bad\")\n",
    "}\n",
    "a > 1 & b == 2\n",
    "a > 1 | b == 2"
   ]
  },
  {
   "cell_type": "markdown",
   "id": "5230cd03-8f93-4694-89e4-70bc6e02a898",
   "metadata": {},
   "source": [
    "## String manipulation"
   ]
  },
  {
   "cell_type": "code",
   "execution_count": null,
   "id": "ed7c5a65-dd4e-4b4f-a07e-471e0aaed5b9",
   "metadata": {},
   "outputs": [],
   "source": [
    "### Compare strings\n",
    "\"Ciao\" == \"Ciao\"\n",
    "\"Ciao\" == \"Ciao \" ##FEDE## look for tricky typo\n",
    "\"Ciao\" == \"ciao\"  ##FEDE## case-sensitive"
   ]
  },
  {
   "cell_type": "code",
   "execution_count": null,
   "id": "11ea11ad-e0fe-4800-ae6e-298e3a925320",
   "metadata": {
    "tags": []
   },
   "outputs": [],
   "source": [
    "\"tom\" > \"richard\""
   ]
  },
  {
   "cell_type": "code",
   "execution_count": null,
   "id": "fa962dcd-df97-43c3-b570-ce321932d02a",
   "metadata": {},
   "outputs": [],
   "source": [
    "charToRaw(\"t\") # https://www.asciitable.com"
   ]
  },
  {
   "cell_type": "code",
   "execution_count": null,
   "id": "63940ece-7ffa-487a-81e3-da5f333abbe2",
   "metadata": {},
   "outputs": [],
   "source": [
    "charToRaw(\"r\")"
   ]
  },
  {
   "cell_type": "code",
   "execution_count": null,
   "id": "b5453848-beda-4b2f-bf94-5b8bfabb925f",
   "metadata": {},
   "outputs": [],
   "source": [
    "\"a\" < \"A\"\n",
    "charToRaw(\"a\")\n",
    "charToRaw(\"A\")"
   ]
  },
  {
   "cell_type": "code",
   "execution_count": null,
   "id": "3b3d88fb-d02f-4ce3-9c19-e6feb2b1f6db",
   "metadata": {},
   "outputs": [],
   "source": [
    "# https://stackoverflow.com/questions/71684102/how-string-comparison-works-in-r"
   ]
  },
  {
   "cell_type": "markdown",
   "id": "2fb9f803",
   "metadata": {},
   "source": [
    "### Go back to something more useful: concatenate strigs using \"paste()\"!"
   ]
  },
  {
   "cell_type": "code",
   "execution_count": null,
   "id": "e4ad35c7",
   "metadata": {
    "scrolled": true
   },
   "outputs": [],
   "source": [
    "paste(\"Hello\", \" \", \"World\", \"!\") # extra spaces!"
   ]
  },
  {
   "cell_type": "code",
   "execution_count": null,
   "id": "b8f0933b",
   "metadata": {
    "scrolled": true
   },
   "outputs": [],
   "source": [
    "paste0(\"Hello\", \" \", \"World\", \"!\") # this gives you more control"
   ]
  },
  {
   "cell_type": "code",
   "execution_count": null,
   "id": "5ee6c23f",
   "metadata": {
    "scrolled": true
   },
   "outputs": [],
   "source": [
    "paste(\"Hello\", dumb_df_names$NAME[1], \"!\", \"How are you?\") # again.. spaces sometime are messy"
   ]
  },
  {
   "cell_type": "code",
   "execution_count": null,
   "id": "ac830065",
   "metadata": {},
   "outputs": [],
   "source": [
    "paste0(\"Hello \", dumb_df_names$NAME[2], \"! \", \"How are you?\")"
   ]
  },
  {
   "cell_type": "code",
   "execution_count": null,
   "id": "fd94cf03",
   "metadata": {},
   "outputs": [],
   "source": [
    "# complicate to show why this could be handy:\n",
    "for (i in 15:30) { # we are talking of °C.. right?\n",
    "    if (i <= 22) {\n",
    "        print(paste0(\"The temperature is, \", i, \" °C and \", dumb_df_names$NAME[1], \" feels cold!\"))\n",
    "    } else if (i <= 26) {\n",
    "        print(paste0(\"The temperature is, \", i, \" °C and \", dumb_df_names$NAME[1], \" is comfortable!\"))\n",
    "    } else {\n",
    "        print(paste0(\"The temperature is, \", i, \" °C and \", dumb_df_names$NAME[1], \" feels too warm!\"))\n",
    "    }\n",
    "}"
   ]
  },
  {
   "cell_type": "code",
   "execution_count": null,
   "id": "44b14d03",
   "metadata": {},
   "outputs": [],
   "source": [
    "# convert to F\n",
    "for (i in 15:30) { # but keep this is °C.. \n",
    "    if (i <= 22) {\n",
    "        print(paste0(\"The temperature is, \", ( (i * 9/5) + 32 ), \" °F and \", dumb_df_names$NAME[1], \" feels cold!\"))\n",
    "    } else if (i <= 26) {\n",
    "        print(paste0(\"The temperature is, \", ( (i * 9/5) + 32 ), \" °F and \", dumb_df_names$NAME[1], \" is comfortable!\"))\n",
    "    } else {\n",
    "        print(paste0(\"The temperature is, \", ( (i * 9/5) + 32 ), \" °F and \", dumb_df_names$NAME[1], \" feels too warm!\"))\n",
    "    }\n",
    "}"
   ]
  },
  {
   "cell_type": "markdown",
   "id": "3a0d13fa-460b-466b-840d-02ed6eebaa40",
   "metadata": {},
   "source": [
    "## Lists\n",
    "### Store more multiple objects in a one-dimensional array"
   ]
  },
  {
   "cell_type": "code",
   "execution_count": null,
   "id": "ea544f66-4802-449c-8769-4375571882f8",
   "metadata": {
    "tags": []
   },
   "outputs": [],
   "source": [
    "CBE_people <- c(\"Tom\", \"Carlos\", \"Fede\")"
   ]
  },
  {
   "cell_type": "code",
   "execution_count": null,
   "id": "42ea599a-8248-4761-8358-17957de386e4",
   "metadata": {},
   "outputs": [],
   "source": [
    "\"Fede\" %in% CBE_people"
   ]
  },
  {
   "cell_type": "code",
   "execution_count": null,
   "id": "048b7192-3685-4264-9b64-91c58ba87a12",
   "metadata": {},
   "outputs": [],
   "source": [
    "which(CBE_people == \"Fede\")"
   ]
  },
  {
   "cell_type": "code",
   "execution_count": null,
   "id": "ea5d26ce-20b8-4064-8d63-a9a5d702d4ae",
   "metadata": {},
   "outputs": [],
   "source": [
    "dumb_numeric_vect <- c(1,2,3,4,5,6,7,8,9,0)"
   ]
  },
  {
   "cell_type": "code",
   "execution_count": null,
   "id": "06d7ebcb-d7cc-4406-a876-ba4b8fb79395",
   "metadata": {},
   "outputs": [],
   "source": [
    "mixed_list <- c(1,\"2\",3,4,5)\n",
    "mixed_list2 <- list(1,\"2\",3,4,5)"
   ]
  },
  {
   "cell_type": "code",
   "execution_count": null,
   "id": "99b9ecdf-d24f-4707-acae-aecf27f3fdcd",
   "metadata": {},
   "outputs": [],
   "source": [
    "str(mixed_list) # converted to the \"higher\"\n",
    "str(mixed_list2) # a list can contain many different data types\n",
    "str(dumb_list)"
   ]
  },
  {
   "cell_type": "code",
   "execution_count": null,
   "id": "22b8c28c-dc16-4f7e-86f2-401f868e9358",
   "metadata": {},
   "outputs": [],
   "source": []
  },
  {
   "cell_type": "code",
   "execution_count": null,
   "id": "d8d5cda1-0282-4829-b164-52156d5bb81f",
   "metadata": {},
   "outputs": [],
   "source": []
  },
  {
   "cell_type": "code",
   "execution_count": null,
   "id": "53f72975-8b45-4c8d-8f17-325394a5d7bb",
   "metadata": {},
   "outputs": [],
   "source": []
  },
  {
   "cell_type": "code",
   "execution_count": null,
   "id": "2850641b-6985-4bc4-9bd8-a5107436a07d",
   "metadata": {},
   "outputs": [],
   "source": []
  },
  {
   "cell_type": "markdown",
   "id": "c801dae3-4ef8-44ab-abc8-5968ca55e819",
   "metadata": {},
   "source": [
    "## Data Frames\n",
    "### Extending Lists"
   ]
  },
  {
   "cell_type": "code",
   "execution_count": null,
   "id": "1f2420d5-cf3c-40ce-8d15-a46ffc47db7c",
   "metadata": {},
   "outputs": [],
   "source": []
  },
  {
   "cell_type": "code",
   "execution_count": null,
   "id": "2ab5c2bc-9ea3-4a22-b173-0607967d602a",
   "metadata": {},
   "outputs": [],
   "source": []
  },
  {
   "cell_type": "code",
   "execution_count": null,
   "id": "ef8eb958-164f-491b-a4a8-bda6737492dc",
   "metadata": {},
   "outputs": [],
   "source": []
  },
  {
   "cell_type": "code",
   "execution_count": null,
   "id": "bb7443e9-8097-4e66-a55d-2b5dc8eaab75",
   "metadata": {
    "tags": []
   },
   "outputs": [],
   "source": []
  },
  {
   "cell_type": "code",
   "execution_count": null,
   "id": "d309d240-22d7-4b33-87b1-2abf9f61557a",
   "metadata": {},
   "outputs": [],
   "source": []
  },
  {
   "cell_type": "markdown",
   "id": "a0adaa0b-50f2-4058-9ad9-c095594a3341",
   "metadata": {},
   "source": [
    "### Rounding numbers"
   ]
  },
  {
   "cell_type": "code",
   "execution_count": null,
   "id": "6a8b958e-ba49-4cf4-a74b-701888acdc6a",
   "metadata": {},
   "outputs": [],
   "source": [
    "round(2.5, digits = 0) ##FEDE## What?! Why?! https://stat.ethz.ch/R-manual/R-devel/library/base/html/Round.html\n",
    "round(2.6, digits = 0) "
   ]
  },
  {
   "cell_type": "code",
   "execution_count": null,
   "id": "7a3503a8-9757-410a-9d4a-be2fb7a20234",
   "metadata": {},
   "outputs": [],
   "source": [
    "floor(2.5)\n",
    "ceiling(2.5)\n",
    "trunc(2.7)\n",
    "signif(2.5, digits = 0)"
   ]
  },
  {
   "cell_type": "markdown",
   "id": "f4607821-abe6-4e1c-9bb5-9e9a2baae070",
   "metadata": {},
   "source": [
    "## Source a \"script\"\n",
    "### A \"script\" is a file that contains code"
   ]
  },
  {
   "cell_type": "code",
   "execution_count": null,
   "id": "b65d96c7-2af5-4bb7-85e6-42aff74af690",
   "metadata": {},
   "outputs": [],
   "source": [
    "source(file = \"timeseries/script.r\")"
   ]
  },
  {
   "cell_type": "code",
   "execution_count": null,
   "id": "407497f5-98a6-4c39-93f9-6f5f5fd63de8",
   "metadata": {},
   "outputs": [],
   "source": [
    "c(a,b,c)"
   ]
  },
  {
   "cell_type": "code",
   "execution_count": null,
   "id": "e5ad9239-59c3-43a5-8e17-0d68828c9b3c",
   "metadata": {},
   "outputs": [],
   "source": []
  },
  {
   "cell_type": "code",
   "execution_count": null,
   "id": "8ab45da4-d6ad-4940-b2a6-7b9d8836f0a7",
   "metadata": {},
   "outputs": [],
   "source": []
  },
  {
   "cell_type": "code",
   "execution_count": null,
   "id": "661e1c38",
   "metadata": {},
   "outputs": [],
   "source": []
  }
 ],
 "metadata": {
  "kernelspec": {
   "display_name": "R",
   "language": "R",
   "name": "ir"
  },
  "language_info": {
   "codemirror_mode": "r",
   "file_extension": ".r",
   "mimetype": "text/x-r-source",
   "name": "R",
   "pygments_lexer": "r",
   "version": "4.1.2"
  }
 },
 "nbformat": 4,
 "nbformat_minor": 5
}
